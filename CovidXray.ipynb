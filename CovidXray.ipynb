{
  "nbformat": 4,
  "nbformat_minor": 0,
  "metadata": {
    "colab": {
      "name": "CovidXray.ipynb",
      "provenance": [],
      "collapsed_sections": []
    },
    "kernelspec": {
      "name": "python3",
      "display_name": "Python 3"
    },
    "accelerator": "GPU"
  },
  "cells": [
    {
      "cell_type": "code",
      "metadata": {
        "id": "4t8iEgYeOtT-",
        "colab_type": "code",
        "colab": {
          "base_uri": "https://localhost:8080/",
          "height": 122
        },
        "outputId": "df5feece-e767-4af7-b3a0-7c178be7546e"
      },
      "source": [
        "from google.colab import drive\n",
        "drive.mount('/content/drive/')"
      ],
      "execution_count": 1,
      "outputs": [
        {
          "output_type": "stream",
          "text": [
            "Go to this URL in a browser: https://accounts.google.com/o/oauth2/auth?client_id=947318989803-6bn6qk8qdgf4n4g3pfee6491hc0brc4i.apps.googleusercontent.com&redirect_uri=urn%3aietf%3awg%3aoauth%3a2.0%3aoob&response_type=code&scope=email%20https%3a%2f%2fwww.googleapis.com%2fauth%2fdocs.test%20https%3a%2f%2fwww.googleapis.com%2fauth%2fdrive%20https%3a%2f%2fwww.googleapis.com%2fauth%2fdrive.photos.readonly%20https%3a%2f%2fwww.googleapis.com%2fauth%2fpeopleapi.readonly\n",
            "\n",
            "Enter your authorization code:\n",
            "··········\n",
            "Mounted at /content/drive/\n"
          ],
          "name": "stdout"
        }
      ]
    },
    {
      "cell_type": "code",
      "metadata": {
        "id": "TkdVUN4bSw4C",
        "colab_type": "code",
        "colab": {}
      },
      "source": [
        "train_path = \"/content/drive/My Drive/Covid_data/two/train\"\n",
        "valid_path = \"/content/drive/My Drive/Covid_data/two/test\"\n"
      ],
      "execution_count": 0,
      "outputs": []
    },
    {
      "cell_type": "code",
      "metadata": {
        "id": "jJ3T2VMUURlY",
        "colab_type": "code",
        "outputId": "4659523c-81bd-48e5-f8a8-4923ea5c3c58",
        "colab": {
          "base_uri": "https://localhost:8080/",
          "height": 122
        }
      },
      "source": [
        "from keras.preprocessing.image import ImageDataGenerator\n",
        "datagen = ImageDataGenerator(rescale=1./255,\n",
        " rotation_range=50,\n",
        " featurewise_center = True,\n",
        " featurewise_std_normalization = True,\n",
        " width_shift_range=0.2,\n",
        " height_shift_range=0.2,\n",
        " shear_range=0.25,\n",
        " zoom_range=0.1,\n",
        " zca_whitening = True,\n",
        " channel_shift_range = 20,\n",
        " horizontal_flip = True ,\n",
        " vertical_flip = True ,\n",
        " validation_split = 0.2)\n",
        "\n",
        "train_batches = datagen.flow_from_directory(train_path,\n",
        " target_size=(150,150),\n",
        " shuffle=True,\n",
        " batch_size=30,\n",
        " seed=42,\n",
        " class_mode='binary')\n",
        "\n",
        "valid_batches = datagen.flow_from_directory(valid_path,\n",
        " target_size=(150,150),\n",
        " shuffle=True,\n",
        " batch_size=30,\n",
        " seed=42,\n",
        " class_mode='binary')"
      ],
      "execution_count": 3,
      "outputs": [
        {
          "output_type": "stream",
          "text": [
            "Using TensorFlow backend.\n",
            "/usr/local/lib/python3.6/dist-packages/keras_preprocessing/image/image_data_generator.py:342: UserWarning: This ImageDataGenerator specifies `zca_whitening` which overrides setting of`featurewise_std_normalization`.\n",
            "  warnings.warn('This ImageDataGenerator specifies '\n"
          ],
          "name": "stderr"
        },
        {
          "output_type": "stream",
          "text": [
            "Found 130 images belonging to 2 classes.\n",
            "Found 18 images belonging to 2 classes.\n"
          ],
          "name": "stdout"
        }
      ]
    },
    {
      "cell_type": "markdown",
      "metadata": {
        "id": "da4xB-U8SjPX",
        "colab_type": "text"
      },
      "source": [
        "## **Transfer Learning**"
      ]
    },
    {
      "cell_type": "code",
      "metadata": {
        "id": "rnTk-viESZx3",
        "colab_type": "code",
        "colab": {}
      },
      "source": [
        "from keras import models\n",
        "from keras.models import Model\n",
        "from keras.models import Sequential\n",
        "from keras import layers\n",
        "from keras.applications import VGG16\n",
        "from keras.applications.densenet import DenseNet201\n",
        "from keras import optimizers\n",
        "from keras.layers.core import Flatten, Dense, Dropout, Lambda"
      ],
      "execution_count": 0,
      "outputs": []
    },
    {
      "cell_type": "markdown",
      "metadata": {
        "id": "3Hq4te6JeLJP",
        "colab_type": "text"
      },
      "source": [
        "## **VGG-16**"
      ]
    },
    {
      "cell_type": "code",
      "metadata": {
        "id": "BImrAiIqZFLN",
        "colab_type": "code",
        "outputId": "86026978-41a2-448b-8f7a-3b41f68caaa6",
        "colab": {
          "base_uri": "https://localhost:8080/",
          "height": 71
        }
      },
      "source": [
        "conv_base = VGG16(weights='imagenet',\n",
        " include_top=False,\n",
        " input_shape=(150, 150, 3))\n",
        "conv_base.trainable = False\n",
        "model = models.Sequential()\n",
        "model.add(conv_base)\n",
        "model.add(layers.Flatten())\n",
        "model.add(layers.Dense(256, activation='relu'))\n",
        "model.add(layers.Dense(1, activation='sigmoid'))\n",
        "model.compile(loss='binary_crossentropy',\n",
        " \n",
        " optimizer=optimizers.Adam(lr=0.0001),\n",
        " metrics=['acc'])"
      ],
      "execution_count": 5,
      "outputs": [
        {
          "output_type": "stream",
          "text": [
            "Downloading data from https://github.com/fchollet/deep-learning-models/releases/download/v0.1/vgg16_weights_tf_dim_ordering_tf_kernels_notop.h5\n",
            "58892288/58889256 [==============================] - 5s 0us/step\n"
          ],
          "name": "stdout"
        }
      ]
    },
    {
      "cell_type": "code",
      "metadata": {
        "id": "RYlGmhKxZx-d",
        "colab_type": "code",
        "outputId": "c08895c4-33c4-4c3d-877e-95017c9c9fca",
        "colab": {
          "base_uri": "https://localhost:8080/",
          "height": 1000
        }
      },
      "source": [
        "result=model.fit_generator(train_batches,\n",
        " steps_per_epoch =20,\n",
        " validation_data = valid_batches,\n",
        " validation_steps = 5,\n",
        " epochs= 30,\n",
        " )"
      ],
      "execution_count": 6,
      "outputs": [
        {
          "output_type": "stream",
          "text": [
            "Epoch 1/30\n"
          ],
          "name": "stdout"
        },
        {
          "output_type": "stream",
          "text": [
            "/usr/local/lib/python3.6/dist-packages/keras_preprocessing/image/image_data_generator.py:720: UserWarning: This ImageDataGenerator specifies `featurewise_center`, but it hasn't been fit on any training data. Fit it first by calling `.fit(numpy_data)`.\n",
            "  warnings.warn('This ImageDataGenerator specifies '\n",
            "/usr/local/lib/python3.6/dist-packages/keras_preprocessing/image/image_data_generator.py:739: UserWarning: This ImageDataGenerator specifies `zca_whitening`, but it hasn't been fit on any training data. Fit it first by calling `.fit(numpy_data)`.\n",
            "  warnings.warn('This ImageDataGenerator specifies '\n"
          ],
          "name": "stderr"
        },
        {
          "output_type": "stream",
          "text": [
            "20/20 [==============================] - 88s 4s/step - loss: 0.4755 - acc: 0.8154 - val_loss: 0.4628 - val_acc: 0.7556\n",
            "Epoch 2/30\n",
            "20/20 [==============================] - 20s 1s/step - loss: 0.2919 - acc: 0.9058 - val_loss: 0.3561 - val_acc: 0.8333\n",
            "Epoch 3/30\n",
            "20/20 [==============================] - 21s 1s/step - loss: 0.2022 - acc: 0.9154 - val_loss: 0.3821 - val_acc: 0.8000\n",
            "Epoch 4/30\n",
            "20/20 [==============================] - 21s 1s/step - loss: 0.1773 - acc: 0.9346 - val_loss: 0.2829 - val_acc: 0.8556\n",
            "Epoch 5/30\n",
            "20/20 [==============================] - 21s 1s/step - loss: 0.1271 - acc: 0.9538 - val_loss: 0.2460 - val_acc: 0.8556\n",
            "Epoch 6/30\n",
            "20/20 [==============================] - 21s 1s/step - loss: 0.1385 - acc: 0.9500 - val_loss: 0.2378 - val_acc: 0.8778\n",
            "Epoch 7/30\n",
            "20/20 [==============================] - 21s 1s/step - loss: 0.1195 - acc: 0.9596 - val_loss: 0.1674 - val_acc: 0.9667\n",
            "Epoch 8/30\n",
            "20/20 [==============================] - 21s 1s/step - loss: 0.1077 - acc: 0.9654 - val_loss: 0.1587 - val_acc: 0.9111\n",
            "Epoch 9/30\n",
            "20/20 [==============================] - 21s 1s/step - loss: 0.1018 - acc: 0.9692 - val_loss: 0.1920 - val_acc: 0.9556\n",
            "Epoch 10/30\n",
            "20/20 [==============================] - 21s 1s/step - loss: 0.0962 - acc: 0.9635 - val_loss: 0.4412 - val_acc: 0.8889\n",
            "Epoch 11/30\n",
            "20/20 [==============================] - 21s 1s/step - loss: 0.0746 - acc: 0.9846 - val_loss: 0.2188 - val_acc: 0.9222\n",
            "Epoch 12/30\n",
            "20/20 [==============================] - 21s 1s/step - loss: 0.0732 - acc: 0.9750 - val_loss: 0.1436 - val_acc: 0.9667\n",
            "Epoch 13/30\n",
            "20/20 [==============================] - 21s 1s/step - loss: 0.0723 - acc: 0.9731 - val_loss: 0.4094 - val_acc: 0.9333\n",
            "Epoch 14/30\n",
            "20/20 [==============================] - 21s 1s/step - loss: 0.0912 - acc: 0.9654 - val_loss: 0.0931 - val_acc: 0.9111\n",
            "Epoch 15/30\n",
            "20/20 [==============================] - 21s 1s/step - loss: 0.0656 - acc: 0.9885 - val_loss: 0.2135 - val_acc: 0.9444\n",
            "Epoch 16/30\n",
            "20/20 [==============================] - 20s 1s/step - loss: 0.0755 - acc: 0.9712 - val_loss: 0.0823 - val_acc: 0.9556\n",
            "Epoch 17/30\n",
            "20/20 [==============================] - 21s 1s/step - loss: 0.0813 - acc: 0.9692 - val_loss: 0.0711 - val_acc: 0.9111\n",
            "Epoch 18/30\n",
            "20/20 [==============================] - 21s 1s/step - loss: 0.0702 - acc: 0.9827 - val_loss: 0.0890 - val_acc: 0.9667\n",
            "Epoch 19/30\n",
            "20/20 [==============================] - 21s 1s/step - loss: 0.0834 - acc: 0.9692 - val_loss: 0.1582 - val_acc: 0.8889\n",
            "Epoch 20/30\n",
            "20/20 [==============================] - 21s 1s/step - loss: 0.0563 - acc: 0.9788 - val_loss: 0.1166 - val_acc: 0.9667\n",
            "Epoch 21/30\n",
            "20/20 [==============================] - 21s 1s/step - loss: 0.0546 - acc: 0.9923 - val_loss: 0.2406 - val_acc: 0.9333\n",
            "Epoch 22/30\n",
            "20/20 [==============================] - 21s 1s/step - loss: 0.0744 - acc: 0.9750 - val_loss: 0.2531 - val_acc: 0.9778\n",
            "Epoch 23/30\n",
            "20/20 [==============================] - 21s 1s/step - loss: 0.0620 - acc: 0.9769 - val_loss: 0.1850 - val_acc: 0.9444\n",
            "Epoch 24/30\n",
            "20/20 [==============================] - 21s 1s/step - loss: 0.0593 - acc: 0.9788 - val_loss: 0.0539 - val_acc: 0.9444\n",
            "Epoch 25/30\n",
            "20/20 [==============================] - 21s 1s/step - loss: 0.0744 - acc: 0.9769 - val_loss: 0.0692 - val_acc: 0.9778\n",
            "Epoch 26/30\n",
            "20/20 [==============================] - 21s 1s/step - loss: 0.0686 - acc: 0.9750 - val_loss: 0.0846 - val_acc: 0.9778\n",
            "Epoch 27/30\n",
            "20/20 [==============================] - 21s 1s/step - loss: 0.0657 - acc: 0.9731 - val_loss: 0.0535 - val_acc: 0.9667\n",
            "Epoch 28/30\n",
            "20/20 [==============================] - 21s 1s/step - loss: 0.0442 - acc: 0.9885 - val_loss: 0.0965 - val_acc: 0.9667\n",
            "Epoch 29/30\n",
            "20/20 [==============================] - 21s 1s/step - loss: 0.0511 - acc: 0.9846 - val_loss: 0.1381 - val_acc: 0.9222\n",
            "Epoch 30/30\n",
            "20/20 [==============================] - 21s 1s/step - loss: 0.0462 - acc: 0.9865 - val_loss: 0.0554 - val_acc: 0.9778\n"
          ],
          "name": "stdout"
        }
      ]
    },
    {
      "cell_type": "code",
      "metadata": {
        "id": "C8ZiptbIP9KC",
        "colab_type": "code",
        "colab": {
          "base_uri": "https://localhost:8080/",
          "height": 68
        },
        "outputId": "933cf7b4-765c-464a-f5e1-61bbbfe7ec46"
      },
      "source": [
        "!pip install h5py"
      ],
      "execution_count": 7,
      "outputs": [
        {
          "output_type": "stream",
          "text": [
            "Requirement already satisfied: h5py in /usr/local/lib/python3.6/dist-packages (2.10.0)\n",
            "Requirement already satisfied: numpy>=1.7 in /usr/local/lib/python3.6/dist-packages (from h5py) (1.18.4)\n",
            "Requirement already satisfied: six in /usr/local/lib/python3.6/dist-packages (from h5py) (1.12.0)\n"
          ],
          "name": "stdout"
        }
      ]
    },
    {
      "cell_type": "code",
      "metadata": {
        "id": "G6ajqIlfPNHI",
        "colab_type": "code",
        "colab": {}
      },
      "source": [
        "from keras.models import model_from_json\n",
        "# serialize model to json\n",
        "json_model = model.to_json()\n",
        "#save the model architecture to JSON file\n",
        "with open('/content/covid_model.json', 'w') as json_file:\n",
        "    json_file.write(json_model)\n",
        "#saving the weights of the model\n",
        "model.save_weights('/content/covid_weights.h5')"
      ],
      "execution_count": 0,
      "outputs": []
    },
    {
      "cell_type": "markdown",
      "metadata": {
        "id": "jUgT9nreeSMt",
        "colab_type": "text"
      },
      "source": [
        "## **DenseNet201**"
      ]
    },
    {
      "cell_type": "code",
      "metadata": {
        "id": "HVRNYK4EaKbR",
        "colab_type": "code",
        "outputId": "03a2675b-fac5-40ae-a8b9-0865787052e4",
        "colab": {
          "base_uri": "https://localhost:8080/",
          "height": 71
        }
      },
      "source": [
        "conv_base1 = DenseNet201(weights='imagenet',\n",
        " include_top=False,\n",
        " input_shape=(150, 150, 3))\n",
        "conv_base.trainable = False\n",
        "model = models.Sequential()\n",
        "model.add(conv_base)\n",
        "model.add(layers.Flatten())\n",
        "model.add(layers.Dense(256, activation='relu'))\n",
        "model.add(layers.Dense(1, activation='sigmoid'))\n",
        "model.compile(loss='binary_crossentropy',\n",
        " \n",
        " optimizer=optimizers.Adam(lr=0.0001),\n",
        " metrics=['acc'])"
      ],
      "execution_count": 0,
      "outputs": [
        {
          "output_type": "stream",
          "text": [
            "Downloading data from https://github.com/keras-team/keras-applications/releases/download/densenet/densenet201_weights_tf_dim_ordering_tf_kernels_notop.h5\n",
            "74842112/74836368 [==============================] - 2s 0us/step\n"
          ],
          "name": "stdout"
        }
      ]
    },
    {
      "cell_type": "code",
      "metadata": {
        "id": "3oKdHaITdCCT",
        "colab_type": "code",
        "outputId": "896b67cd-6cea-42ff-a503-aa4344f25fc1",
        "colab": {
          "base_uri": "https://localhost:8080/",
          "height": 1000
        }
      },
      "source": [
        "result=model.fit_generator(train_batches,\n",
        " steps_per_epoch =20,\n",
        " validation_data = valid_batches,\n",
        " validation_steps = 5,\n",
        " epochs= 30,\n",
        " )"
      ],
      "execution_count": 0,
      "outputs": [
        {
          "output_type": "stream",
          "text": [
            "Epoch 1/30\n"
          ],
          "name": "stdout"
        },
        {
          "output_type": "stream",
          "text": [
            "/usr/local/lib/python3.6/dist-packages/keras_preprocessing/image/image_data_generator.py:720: UserWarning: This ImageDataGenerator specifies `featurewise_center`, but it hasn't been fit on any training data. Fit it first by calling `.fit(numpy_data)`.\n",
            "  warnings.warn('This ImageDataGenerator specifies '\n",
            "/usr/local/lib/python3.6/dist-packages/keras_preprocessing/image/image_data_generator.py:739: UserWarning: This ImageDataGenerator specifies `zca_whitening`, but it hasn't been fit on any training data. Fit it first by calling `.fit(numpy_data)`.\n",
            "  warnings.warn('This ImageDataGenerator specifies '\n"
          ],
          "name": "stderr"
        },
        {
          "output_type": "stream",
          "text": [
            "20/20 [==============================] - 19s 931ms/step - loss: 0.4698 - acc: 0.8212 - val_loss: 0.4433 - val_acc: 0.7556\n",
            "Epoch 2/30\n",
            "20/20 [==============================] - 16s 813ms/step - loss: 0.2602 - acc: 0.9154 - val_loss: 0.3508 - val_acc: 0.7667\n",
            "Epoch 3/30\n",
            "20/20 [==============================] - 16s 822ms/step - loss: 0.1746 - acc: 0.9481 - val_loss: 0.2696 - val_acc: 0.8444\n",
            "Epoch 4/30\n",
            "20/20 [==============================] - 16s 811ms/step - loss: 0.1662 - acc: 0.9404 - val_loss: 0.2556 - val_acc: 0.8556\n",
            "Epoch 5/30\n",
            "20/20 [==============================] - 16s 817ms/step - loss: 0.1373 - acc: 0.9519 - val_loss: 0.3075 - val_acc: 0.8444\n",
            "Epoch 6/30\n",
            "20/20 [==============================] - 16s 812ms/step - loss: 0.1160 - acc: 0.9750 - val_loss: 0.1667 - val_acc: 0.9222\n",
            "Epoch 7/30\n",
            "20/20 [==============================] - 16s 817ms/step - loss: 0.1238 - acc: 0.9692 - val_loss: 0.2808 - val_acc: 0.9111\n",
            "Epoch 8/30\n",
            "20/20 [==============================] - 17s 826ms/step - loss: 0.1082 - acc: 0.9615 - val_loss: 0.3636 - val_acc: 0.9000\n",
            "Epoch 9/30\n",
            "20/20 [==============================] - 16s 813ms/step - loss: 0.0913 - acc: 0.9750 - val_loss: 0.2352 - val_acc: 0.8667\n",
            "Epoch 10/30\n",
            "20/20 [==============================] - 17s 826ms/step - loss: 0.0941 - acc: 0.9769 - val_loss: 0.2489 - val_acc: 0.8556\n",
            "Epoch 11/30\n",
            "20/20 [==============================] - 17s 830ms/step - loss: 0.0991 - acc: 0.9731 - val_loss: 0.2292 - val_acc: 0.8889\n",
            "Epoch 12/30\n",
            "20/20 [==============================] - 16s 821ms/step - loss: 0.0766 - acc: 0.9769 - val_loss: 0.3011 - val_acc: 0.9111\n",
            "Epoch 13/30\n",
            "20/20 [==============================] - 17s 829ms/step - loss: 0.0657 - acc: 0.9788 - val_loss: 0.2698 - val_acc: 0.8889\n",
            "Epoch 14/30\n",
            "20/20 [==============================] - 17s 826ms/step - loss: 0.0933 - acc: 0.9788 - val_loss: 0.2280 - val_acc: 0.9444\n",
            "Epoch 15/30\n",
            "20/20 [==============================] - 16s 817ms/step - loss: 0.0602 - acc: 0.9769 - val_loss: 0.0741 - val_acc: 0.9111\n",
            "Epoch 16/30\n",
            "20/20 [==============================] - 17s 827ms/step - loss: 0.0659 - acc: 0.9750 - val_loss: 0.1060 - val_acc: 0.9333\n",
            "Epoch 17/30\n",
            "20/20 [==============================] - 17s 833ms/step - loss: 0.0691 - acc: 0.9808 - val_loss: 0.1488 - val_acc: 0.9778\n",
            "Epoch 18/30\n",
            "20/20 [==============================] - 17s 830ms/step - loss: 0.0678 - acc: 0.9769 - val_loss: 0.1798 - val_acc: 0.8889\n",
            "Epoch 19/30\n",
            "20/20 [==============================] - 17s 828ms/step - loss: 0.0797 - acc: 0.9673 - val_loss: 0.4344 - val_acc: 0.9000\n",
            "Epoch 20/30\n",
            "20/20 [==============================] - 17s 827ms/step - loss: 0.0705 - acc: 0.9712 - val_loss: 0.1157 - val_acc: 0.9556\n",
            "Epoch 21/30\n",
            "20/20 [==============================] - 16s 822ms/step - loss: 0.0562 - acc: 0.9808 - val_loss: 0.2373 - val_acc: 0.8889\n",
            "Epoch 22/30\n",
            "20/20 [==============================] - 17s 837ms/step - loss: 0.0700 - acc: 0.9712 - val_loss: 0.1778 - val_acc: 0.9111\n",
            "Epoch 23/30\n",
            "20/20 [==============================] - 17s 837ms/step - loss: 0.0672 - acc: 0.9731 - val_loss: 0.1413 - val_acc: 0.9667\n",
            "Epoch 24/30\n",
            "20/20 [==============================] - 16s 824ms/step - loss: 0.0419 - acc: 0.9885 - val_loss: 0.1795 - val_acc: 0.9222\n",
            "Epoch 25/30\n",
            "20/20 [==============================] - 17s 843ms/step - loss: 0.0492 - acc: 0.9827 - val_loss: 0.0483 - val_acc: 0.9667\n",
            "Epoch 26/30\n",
            "20/20 [==============================] - 16s 823ms/step - loss: 0.0522 - acc: 0.9769 - val_loss: 0.2566 - val_acc: 0.9333\n",
            "Epoch 27/30\n",
            "20/20 [==============================] - 17s 832ms/step - loss: 0.0478 - acc: 0.9846 - val_loss: 0.0571 - val_acc: 0.9333\n",
            "Epoch 28/30\n",
            "20/20 [==============================] - 17s 841ms/step - loss: 0.0347 - acc: 0.9942 - val_loss: 0.0893 - val_acc: 0.9667\n",
            "Epoch 29/30\n",
            "20/20 [==============================] - 17s 851ms/step - loss: 0.0459 - acc: 0.9865 - val_loss: 0.0676 - val_acc: 0.9778\n",
            "Epoch 30/30\n",
            "20/20 [==============================] - 17s 839ms/step - loss: 0.0384 - acc: 0.9865 - val_loss: 0.0544 - val_acc: 0.9778\n"
          ],
          "name": "stdout"
        }
      ]
    },
    {
      "cell_type": "markdown",
      "metadata": {
        "id": "twnLktLLfWrW",
        "colab_type": "text"
      },
      "source": [
        "## **Customized CNN**"
      ]
    },
    {
      "cell_type": "code",
      "metadata": {
        "id": "59uY7ibPfR7C",
        "colab_type": "code",
        "colab": {}
      },
      "source": [
        "import sys\n",
        "import os\n",
        "from keras.preprocessing.image import ImageDataGenerator\n",
        "from keras import optimizers\n",
        "from keras.models import Sequential\n",
        "from keras.layers import Dropout, Flatten, Dense, Activation\n",
        "from keras.layers.convolutional import Convolution2D, MaxPooling2D\n",
        "from keras import callbacks"
      ],
      "execution_count": 0,
      "outputs": []
    },
    {
      "cell_type": "code",
      "metadata": {
        "id": "LK1QkqLrbqe_",
        "colab_type": "code",
        "outputId": "e3a00006-aa6e-435b-820c-a407db02232d",
        "colab": {
          "base_uri": "https://localhost:8080/",
          "height": 105
        }
      },
      "source": [
        "model = Sequential()\n",
        "model.add(Convolution2D(32, (3,3), border_mode =\"same\", input_shape=(150, 150, 3)))\n",
        "model.add(Activation(\"relu\"))\n",
        "model.add(MaxPooling2D(pool_size=(2, 2)))\n",
        "\n",
        "model.add(Convolution2D(64, (2,2), border_mode =\"same\"))\n",
        "model.add(Activation(\"relu\"))\n",
        "model.add(MaxPooling2D(pool_size=(2,2)))\n",
        "\n",
        "model.add(Flatten())\n",
        "model.add(Dense(256))\n",
        "model.add(Activation(\"relu\"))\n",
        "model.add(Dropout(0.5))\n",
        "model.add(Dense(1, activation='softmax'))\n",
        "\n",
        "\n",
        "model.compile(loss='binary_crossentropy',\n",
        "              optimizer=optimizers.RMSprop(lr=0.0001),\n",
        "              metrics=['accuracy'])"
      ],
      "execution_count": 0,
      "outputs": [
        {
          "output_type": "stream",
          "text": [
            "/usr/local/lib/python3.6/dist-packages/ipykernel_launcher.py:2: UserWarning: Update your `Conv2D` call to the Keras 2 API: `Conv2D(32, (3, 3), input_shape=(150, 150,..., padding=\"same\")`\n",
            "  \n",
            "/usr/local/lib/python3.6/dist-packages/ipykernel_launcher.py:6: UserWarning: Update your `Conv2D` call to the Keras 2 API: `Conv2D(64, (2, 2), padding=\"same\")`\n",
            "  \n"
          ],
          "name": "stderr"
        }
      ]
    },
    {
      "cell_type": "code",
      "metadata": {
        "id": "H9x5lzQycjdt",
        "colab_type": "code",
        "outputId": "7452976e-ab0e-4c0f-b418-0703c1777ec8",
        "colab": {
          "base_uri": "https://localhost:8080/",
          "height": 1000
        }
      },
      "source": [
        "result=model.fit_generator(train_batches,\n",
        " steps_per_epoch =20,\n",
        " validation_data = valid_batches,\n",
        " validation_steps = 5,\n",
        " epochs= 30,\n",
        " )"
      ],
      "execution_count": 0,
      "outputs": [
        {
          "output_type": "stream",
          "text": [
            "Epoch 1/30\n"
          ],
          "name": "stdout"
        },
        {
          "output_type": "stream",
          "text": [
            "/usr/local/lib/python3.6/dist-packages/keras_preprocessing/image/image_data_generator.py:720: UserWarning: This ImageDataGenerator specifies `featurewise_center`, but it hasn't been fit on any training data. Fit it first by calling `.fit(numpy_data)`.\n",
            "  warnings.warn('This ImageDataGenerator specifies '\n",
            "/usr/local/lib/python3.6/dist-packages/keras_preprocessing/image/image_data_generator.py:739: UserWarning: This ImageDataGenerator specifies `zca_whitening`, but it hasn't been fit on any training data. Fit it first by calling `.fit(numpy_data)`.\n",
            "  warnings.warn('This ImageDataGenerator specifies '\n"
          ],
          "name": "stderr"
        },
        {
          "output_type": "stream",
          "text": [
            "20/20 [==============================] - 19s 956ms/step - loss: 6.9571 - accuracy: 0.5385 - val_loss: 7.6246 - val_accuracy: 0.5000\n",
            "Epoch 2/30\n",
            "20/20 [==============================] - 17s 839ms/step - loss: 7.1518 - accuracy: 0.5385 - val_loss: 7.6246 - val_accuracy: 0.5000\n",
            "Epoch 3/30\n",
            "20/20 [==============================] - 17s 834ms/step - loss: 7.0057 - accuracy: 0.5385 - val_loss: 7.6246 - val_accuracy: 0.5000\n",
            "Epoch 4/30\n",
            "20/20 [==============================] - 17s 840ms/step - loss: 7.1518 - accuracy: 0.5385 - val_loss: 7.6246 - val_accuracy: 0.5000\n",
            "Epoch 5/30\n",
            "20/20 [==============================] - 17s 839ms/step - loss: 7.1518 - accuracy: 0.5385 - val_loss: 7.6246 - val_accuracy: 0.5000\n",
            "Epoch 6/30\n",
            "20/20 [==============================] - 17s 839ms/step - loss: 6.6650 - accuracy: 0.5385 - val_loss: 7.6246 - val_accuracy: 0.5000\n",
            "Epoch 7/30\n",
            "20/20 [==============================] - 17s 842ms/step - loss: 7.3465 - accuracy: 0.5385 - val_loss: 7.6246 - val_accuracy: 0.5000\n",
            "Epoch 8/30\n",
            "20/20 [==============================] - 17s 839ms/step - loss: 7.0057 - accuracy: 0.5385 - val_loss: 7.6246 - val_accuracy: 0.5000\n",
            "Epoch 9/30\n",
            "20/20 [==============================] - 17s 842ms/step - loss: 7.0057 - accuracy: 0.5385 - val_loss: 7.6246 - val_accuracy: 0.5000\n",
            "Epoch 10/30\n",
            "20/20 [==============================] - 17s 843ms/step - loss: 7.1031 - accuracy: 0.5385 - val_loss: 7.6246 - val_accuracy: 0.5000\n",
            "Epoch 11/30\n",
            "20/20 [==============================] - 17s 853ms/step - loss: 7.0544 - accuracy: 0.5385 - val_loss: 7.6246 - val_accuracy: 0.5000\n",
            "Epoch 12/30\n",
            "20/20 [==============================] - 17s 855ms/step - loss: 7.0057 - accuracy: 0.5385 - val_loss: 7.6246 - val_accuracy: 0.5000\n",
            "Epoch 13/30\n",
            "20/20 [==============================] - 17s 844ms/step - loss: 7.0544 - accuracy: 0.5385 - val_loss: 7.6246 - val_accuracy: 0.5000\n",
            "Epoch 14/30\n",
            "20/20 [==============================] - 17s 833ms/step - loss: 6.9084 - accuracy: 0.5385 - val_loss: 7.6246 - val_accuracy: 0.5000\n",
            "Epoch 15/30\n",
            "20/20 [==============================] - 17s 845ms/step - loss: 7.1518 - accuracy: 0.5385 - val_loss: 7.6246 - val_accuracy: 0.5000\n",
            "Epoch 16/30\n",
            "20/20 [==============================] - 17s 847ms/step - loss: 7.0544 - accuracy: 0.5385 - val_loss: 7.6246 - val_accuracy: 0.5000\n",
            "Epoch 17/30\n",
            "20/20 [==============================] - 17s 838ms/step - loss: 7.1518 - accuracy: 0.5385 - val_loss: 7.6246 - val_accuracy: 0.5000\n",
            "Epoch 18/30\n",
            "20/20 [==============================] - 17s 861ms/step - loss: 6.9084 - accuracy: 0.5385 - val_loss: 7.6246 - val_accuracy: 0.5000\n",
            "Epoch 19/30\n",
            "20/20 [==============================] - 16s 824ms/step - loss: 7.2978 - accuracy: 0.5385 - val_loss: 7.6246 - val_accuracy: 0.5000\n",
            "Epoch 20/30\n",
            "20/20 [==============================] - 17s 841ms/step - loss: 7.2491 - accuracy: 0.5385 - val_loss: 7.6246 - val_accuracy: 0.5000\n",
            "Epoch 21/30\n",
            "20/20 [==============================] - 17s 849ms/step - loss: 7.1518 - accuracy: 0.5385 - val_loss: 7.6246 - val_accuracy: 0.5000\n",
            "Epoch 22/30\n",
            "20/20 [==============================] - 17s 832ms/step - loss: 7.1031 - accuracy: 0.5385 - val_loss: 7.6246 - val_accuracy: 0.5000\n",
            "Epoch 23/30\n",
            "20/20 [==============================] - 16s 824ms/step - loss: 6.9571 - accuracy: 0.5385 - val_loss: 7.6246 - val_accuracy: 0.5000\n",
            "Epoch 24/30\n",
            "20/20 [==============================] - 17s 827ms/step - loss: 7.4438 - accuracy: 0.5385 - val_loss: 7.6246 - val_accuracy: 0.5000\n",
            "Epoch 25/30\n",
            "20/20 [==============================] - 17s 834ms/step - loss: 7.2004 - accuracy: 0.5385 - val_loss: 7.6246 - val_accuracy: 0.5000\n",
            "Epoch 26/30\n",
            "20/20 [==============================] - 17s 831ms/step - loss: 7.0544 - accuracy: 0.5385 - val_loss: 7.6246 - val_accuracy: 0.5000\n",
            "Epoch 27/30\n",
            "20/20 [==============================] - 16s 824ms/step - loss: 7.1518 - accuracy: 0.5385 - val_loss: 7.6246 - val_accuracy: 0.5000\n",
            "Epoch 28/30\n",
            "20/20 [==============================] - 16s 818ms/step - loss: 6.9571 - accuracy: 0.5385 - val_loss: 7.6246 - val_accuracy: 0.5000\n",
            "Epoch 29/30\n",
            "20/20 [==============================] - 17s 832ms/step - loss: 6.9084 - accuracy: 0.5385 - val_loss: 7.6246 - val_accuracy: 0.5000\n",
            "Epoch 30/30\n",
            "20/20 [==============================] - 16s 809ms/step - loss: 6.8597 - accuracy: 0.5385 - val_loss: 7.6246 - val_accuracy: 0.5000\n"
          ],
          "name": "stdout"
        }
      ]
    }
  ]
}